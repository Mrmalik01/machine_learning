{
 "cells": [
  {
   "cell_type": "code",
   "execution_count": 38,
   "metadata": {},
   "outputs": [
    {
     "name": "stdout",
     "output_type": "stream",
     "text": [
      "[[  2   4  10]\n",
      " [  8   0  -4]\n",
      " [  4 -20 -44]]\n",
      "[[  20    4   10]\n",
      " [   8    0   -4]\n",
      " [   4  -20 -440]]\n"
     ]
    }
   ],
   "source": [
    "import numpy as np \n",
    "\n",
    "arr = np.array([[1, 2, 5],[4, 0, -2],[2, -10, -22]])\n",
    "arr *=2\n",
    "print(arr)\n",
    "arr[[0, 1, 2], [0, 1, 2]] *=10\n",
    "print(arr)\n"
   ]
  },
  {
   "cell_type": "code",
   "execution_count": 19,
   "metadata": {},
   "outputs": [
    {
     "data": {
      "text/plain": [
       "array([0, 1, 2, 3, 4, 5])"
      ]
     },
     "execution_count": 19,
     "metadata": {},
     "output_type": "execute_result"
    }
   ],
   "source": [
    "np.arange(6)\n",
    "\n"
   ]
  },
  {
   "cell_type": "code",
   "execution_count": 54,
   "metadata": {},
   "outputs": [
    {
     "name": "stdout",
     "output_type": "stream",
     "text": [
      "['Nothin' 'Nothin' 'Nothin' 'Nothin' 'Nothin']\n"
     ]
    }
   ],
   "source": [
    "# String array\n",
    "\n",
    "strs = np.array([\"Khizar\", \"Mark\", \"David\", \"Morgan\", \"Daniel\"])\n",
    "\n",
    "for i in range(strs.shape[0]):\n",
    "    strs[i] = \"Nothing\"\n",
    "\n",
    "print(strs)\n",
    "\n"
   ]
  },
  {
   "cell_type": "code",
   "execution_count": 70,
   "metadata": {},
   "outputs": [
    {
     "name": "stdout",
     "output_type": "stream",
     "text": [
      "[[0 1 2]\n",
      " [0 1 2]\n",
      " [0 1 2]]\n",
      "[[False False  True]\n",
      " [False False  True]\n",
      " [False False  True]]\n",
      "[2 2 2]\n",
      "[2 2 2]\n"
     ]
    }
   ],
   "source": [
    "# Boolean indexing\n",
    "\n",
    "numbers = np.array([np.arange(3), np.arange(3), np.arange(3)])\n",
    "print(numbers)\n",
    "\n",
    "result = numbers == 2\n",
    "\n",
    "print(result) \n",
    "\n",
    "#[[False False  True]\n",
    "# [False False  True]\n",
    "# [False False  True]]\n",
    "\n",
    "print(numbers[result])\n",
    "print(numbers[numbers==2])\n",
    "\n"
   ]
  },
  {
   "cell_type": "code",
   "execution_count": 66,
   "metadata": {},
   "outputs": [
    {
     "name": "stdout",
     "output_type": "stream",
     "text": [
      "[[ 10   0  22]\n",
      " [  2  -1 100]]\n",
      "[[0 1 2]\n",
      " [0 1 2]]\n"
     ]
    },
    {
     "ename": "IndexError",
     "evalue": "index 2 is out of bounds for axis 0 with size 2",
     "output_type": "error",
     "traceback": [
      "\u001b[0;31m---------------------------------------------------------------------------\u001b[0m",
      "\u001b[0;31mIndexError\u001b[0m                                Traceback (most recent call last)",
      "\u001b[0;32m<ipython-input-66-0ecfe6f04e1c>\u001b[0m in \u001b[0;36m<module>\u001b[0;34m\u001b[0m\n\u001b[1;32m      5\u001b[0m \u001b[0mprint\u001b[0m\u001b[0;34m(\u001b[0m\u001b[0mb\u001b[0m\u001b[0;34m)\u001b[0m\u001b[0;34m\u001b[0m\u001b[0m\n\u001b[1;32m      6\u001b[0m \u001b[0;34m\u001b[0m\u001b[0m\n\u001b[0;32m----> 7\u001b[0;31m \u001b[0mprint\u001b[0m\u001b[0;34m(\u001b[0m\u001b[0ma\u001b[0m\u001b[0;34m[\u001b[0m\u001b[0mb\u001b[0m\u001b[0;34m]\u001b[0m\u001b[0;34m)\u001b[0m\u001b[0;34m\u001b[0m\u001b[0m\n\u001b[0m",
      "\u001b[0;31mIndexError\u001b[0m: index 2 is out of bounds for axis 0 with size 2"
     ]
    }
   ],
   "source": [
    "a = np.array([[10, 0, 22],[2, -1, 100]])\n",
    "print(a)\n",
    "\n",
    "b = np.array([[0, 1, 2], [0,1, 2]])\n",
    "print(b)\n",
    "\n",
    "print(a[b])"
   ]
  },
  {
   "cell_type": "code",
   "execution_count": 76,
   "metadata": {},
   "outputs": [
    {
     "name": "stdout",
     "output_type": "stream",
     "text": [
      "[[[1 2 3]\n",
      "  [9 0 0]]\n",
      "\n",
      " [[7 8 9]\n",
      "  [9 6 4]]]\n"
     ]
    }
   ],
   "source": [
    "# 3D arrays\n",
    "\n",
    "features = np.array([[[1, 2, 3],[9, 0, 0]],[[7, 8, 9], [9, 6, 4]]])\n",
    "print(features)"
   ]
  },
  {
   "cell_type": "code",
   "execution_count": 88,
   "metadata": {},
   "outputs": [
    {
     "name": "stdout",
     "output_type": "stream",
     "text": [
      "Col vector : [1 2 3]\n",
      "Row vector : [[1]\n",
      " [2]\n",
      " [3]]\n"
     ]
    }
   ],
   "source": [
    "# reshaping\n",
    "\n",
    "column_vector = np.array([1, 2, 3])\n",
    "row_vector = column_vector.reshape(column_vector.shape[0], 1)\n",
    "print(\"Col vector : {}\".format(column_vector))\n",
    "print(\"Row vector : {}\".format(row_vector))"
   ]
  },
  {
   "cell_type": "code",
   "execution_count": 84,
   "metadata": {},
   "outputs": [
    {
     "name": "stdout",
     "output_type": "stream",
     "text": [
      "(2, 3)\n",
      "[[2 3]\n",
      " [3 2]\n",
      " [3 4]]\n"
     ]
    }
   ],
   "source": [
    "a = np.array([[2, 3, 3], [2, 3, 4]])\n",
    "print(a.shape)\n",
    "print(a.reshape(3, 2))"
   ]
  },
  {
   "cell_type": "code",
   "execution_count": 95,
   "metadata": {},
   "outputs": [
    {
     "name": "stdout",
     "output_type": "stream",
     "text": [
      "[[[ 1  2  3]\n",
      "  [ 4  5  6]]\n",
      "\n",
      " [[-1 -2 -3]\n",
      "  [-4 -5 -6]]\n",
      "\n",
      " [[10 11 12]\n",
      "  [20 21 22]]]\n",
      "[[[ 1 -1 10]\n",
      "  [ 4 -4 20]]\n",
      "\n",
      " [[ 2 -2 11]\n",
      "  [ 5 -5 21]]\n",
      "\n",
      " [[ 3 -3 12]\n",
      "  [ 6 -6 22]]]\n"
     ]
    }
   ],
   "source": [
    "# transpose \n",
    "\n",
    "a = np.array([[1,2,3],[4,5,6]])\n",
    "#print(a)\n",
    "a = a.T\n",
    "#print(a)\n",
    "\n",
    "\n",
    "a = np.array([[[1,2,3],[4,5,6]],[[-1, -2, -3], [-4, -5, -6]], [[10, 11, 12],[20, 21, 22]]])\n",
    "print(a)\n",
    "a = a.T\n",
    "print(a)"
   ]
  },
  {
   "cell_type": "code",
   "execution_count": 110,
   "metadata": {},
   "outputs": [
    {
     "name": "stdout",
     "output_type": "stream",
     "text": [
      "[[1 1 1]\n",
      " [2 2 2]]\n",
      "[[1 1 1]\n",
      " [2 2 2]]\n"
     ]
    }
   ],
   "source": [
    "# Empty like\n",
    "\n",
    "a = np.array([[1,1,1],[2,2,2]])\n",
    "print(a)\n",
    "b = np.empty_like(a)\n",
    "print(b)"
   ]
  },
  {
   "cell_type": "code",
   "execution_count": 122,
   "metadata": {},
   "outputs": [
    {
     "name": "stdout",
     "output_type": "stream",
     "text": [
      "[[1 2 3]\n",
      " [4 5 6]]\n",
      "[[2 4 6]\n",
      " [5 7 9]]\n",
      "[[1 1 1]\n",
      " [2 2 2]]\n",
      "[[2 4 6]\n",
      " [5 7 9]]\n"
     ]
    }
   ],
   "source": [
    "# Adding numbers to each row\n",
    "a = np.array([[1,2,3],[4,5,6]])\n",
    "b = np.array([1,2,3])\n",
    "c = np.empty_like(a)\n",
    "print(c)\n",
    "\n",
    "for i in range(a.shape[0]):\n",
    "    c[i,:] = a[i,:] + b\n",
    "    \n",
    "print(c)\n",
    "\n",
    "# Using broadcasting\n",
    "\n",
    "a1 = np.array([[1,2,3],[4,5,6]])\n",
    "b1 = np.array([1,2,3])\n",
    "c1 = np.empty_like(a)\n",
    "\n",
    "print(c1)\n",
    "c1 = a1+b1\n",
    "print(c1)"
   ]
  },
  {
   "cell_type": "code",
   "execution_count": null,
   "metadata": {},
   "outputs": [],
   "source": []
  },
  {
   "cell_type": "code",
   "execution_count": null,
   "metadata": {},
   "outputs": [],
   "source": []
  }
 ],
 "metadata": {
  "kernelspec": {
   "display_name": "Python 3",
   "language": "python",
   "name": "python3"
  },
  "language_info": {
   "codemirror_mode": {
    "name": "ipython",
    "version": 3
   },
   "file_extension": ".py",
   "mimetype": "text/x-python",
   "name": "python",
   "nbconvert_exporter": "python",
   "pygments_lexer": "ipython3",
   "version": "3.6.5"
  }
 },
 "nbformat": 4,
 "nbformat_minor": 2
}
